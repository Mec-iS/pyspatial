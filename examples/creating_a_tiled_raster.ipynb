{
 "metadata": {
  "name": "",
  "signature": "sha256:9e012b22ebbd8aaa2a54bbaaba92b7edfe215763c843dd873ce2932cb5ea7089"
 },
 "nbformat": 3,
 "nbformat_minor": 0,
 "worksheets": [
  {
   "cells": [
    {
     "cell_type": "code",
     "collapsed": false,
     "input": [
      "from osgeo import gdal\n",
      "import subprocess\n",
      "import os\n",
      "from itertools import product"
     ],
     "language": "python",
     "metadata": {},
     "outputs": [],
     "prompt_number": 1
    },
    {
     "cell_type": "code",
     "collapsed": false,
     "input": [
      "#Parameters\n",
      "#Use the files ending in .img for the CDL\n",
      "filename = \"../test/data/raster/95000_45000.tif\"\n",
      "\n",
      "# Create tiles of size 500 x 500 pixels\n",
      "tilesize = 500\n",
      "\n",
      "fileDir = \"../test/data/raster/\"\n",
      "tileDir = os.path.join(fileDir, \"tiled\", os.path.basename(filename))\n",
      "indexDir = os.path.join(fileDir, \"index\")\n",
      "ds = gdal.Open(filename)\n",
      "driver = ds.GetDriver()\n",
      "fileType = driver.GetDescription()\n",
      "\n",
      "if not os.path.exists(tileDir):\n",
      "    os.makedirs(tileDir)\n",
      "\n",
      "if not os.path.exists(indexDir):\n",
      "    os.makedirs(indexDir)"
     ],
     "language": "python",
     "metadata": {},
     "outputs": [],
     "prompt_number": 21
    },
    {
     "cell_type": "code",
     "collapsed": false,
     "input": [
      "def create_tile(tup, tilesize=5000):\n",
      "    i, j = tup\n",
      "    w = min(i+tilesize, width) - i\n",
      "    h = min(j+tilesize, height) - j\n",
      "    srcwin = [\"-srcwin\"]\n",
      "    window = [i, j, w, h]\n",
      "    srcwin.extend(map(str, window))\n",
      "    outfilename = os.path.join(tileDir, \"_\".join(map(str, [i, j])))\n",
      "    args = [\"gdal_translate\",\"-of\", \"GTIFF\"] + srcwin \n",
      "    args += [filename, outfilename+\".tif\"]\n",
      "    try:\n",
      "        subprocess.check_call(args)\n",
      "    except:\n",
      "        print \" \".join(args)\n",
      "        raise\n",
      "    return args[-1]\n",
      "    \n",
      "ds = gdal.Open(filename)\n",
      "width = ds.RasterXSize\n",
      "height = ds.RasterYSize\n",
      "driver = ds.GetDriver()\n",
      "fileType = driver.GetDescription()\n",
      "\n",
      "if not os.path.exists(tileDir):\n",
      "    os.makedirs(tileDir)\n",
      "\n",
      "#Close the file\n",
      "ds = None\n",
      "tups = [(i,j) for i in range(0, width, tilesize) for j in range(0, height, tilesize)]\n",
      "outfilenames = map(lambda x: create_tile(x, tilesize=tilesize), tups)"
     ],
     "language": "python",
     "metadata": {},
     "outputs": [],
     "prompt_number": 22
    },
    {
     "cell_type": "code",
     "collapsed": false,
     "input": [
      "#Create Index File (Optional)\n",
      "index_args = [\"gdaltindex\", \"-f\", \"GEOJSON\", \"-t_srs\", \"EPSG:4326\"]\n",
      "index_filename = os.path.join(indexDir, os.path.basename(filename)+\".json\")\n",
      "input_files = [os.path.join(tileDir, f) for f in os.listdir(tileDir) if f.endswith(\".tif\")]\n",
      "index_args.append(index_filename)\n",
      "index_args.extend(input_files)\n",
      "\n",
      "if os.path.exists(index_filename):\n",
      "    os.remove(index_filename)\n",
      "\n",
      "#Run the command\n",
      "subprocess.check_output(index_args)"
     ],
     "language": "python",
     "metadata": {},
     "outputs": [
      {
       "metadata": {},
       "output_type": "pyout",
       "prompt_number": 23,
       "text": [
        "'Creating new index file...\\n'"
       ]
      }
     ],
     "prompt_number": 23
    },
    {
     "cell_type": "code",
     "collapsed": false,
     "input": [],
     "language": "python",
     "metadata": {},
     "outputs": []
    }
   ],
   "metadata": {}
  }
 ]
}